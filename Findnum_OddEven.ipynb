{
 "cells": [
  {
   "cell_type": "code",
   "execution_count": 35,
   "metadata": {},
   "outputs": [
    {
     "name": "stdout",
     "output_type": "stream",
     "text": [
      " 752 的奇偶情况: ['奇', '奇', '偶']\n"
     ]
    }
   ],
   "source": [
    "### 判断是否为奇偶极限模式，计算奇偶极限模式中奖率 ###\n",
    "\n",
    "def check_odd_even(number, x):\n",
    "    \"\"\"\n",
    "    接收一个整数number和一个整数x，确保number是x位数，不足的前面补0，\n",
    "    然后检查每一位的奇偶性，并返回一个列表，列表中的元素表示每一位的奇偶情况。\n",
    "\n",
    "    参数:\n",
    "    number: int, 需要检查奇偶性的原始数字。\n",
    "    x: int, 确保数字是x位数。\n",
    "\n",
    "    返回:\n",
    "    odd_even_status: list, 包含每个位上的奇偶性，例如['偶', '奇', '偶']\n",
    "    \"\"\"\n",
    "    # 确保数字是x位数，不足的前面补0\n",
    "    num_str = str(number).zfill(x)\n",
    "    odd_even_status = []\n",
    "\n",
    "    for digit in num_str:\n",
    "        # 将每一位转换为整数，并检查奇偶性\n",
    "        if int(digit) % 2 == 0:\n",
    "            odd_even_status.append(\"偶\")\n",
    "        else:\n",
    "            odd_even_status.append(\"奇\")\n",
    "\n",
    "    return odd_even_status\n",
    "\n",
    "\n",
    "# 测试代码\n",
    "given_number = 752\n",
    "result = check_odd_even(given_number,3)\n",
    "print(f\" {given_number} 的奇偶情况: {result}\")"
   ]
  },
  {
   "cell_type": "code",
   "execution_count": 36,
   "metadata": {},
   "outputs": [
    {
     "name": "stdout",
     "output_type": "stream",
     "text": [
      "数字 955 每一位相加的结果是: 1\n"
     ]
    }
   ],
   "source": [
    "# 工具类：计算数字的整体奇偶性\n",
    "def sum_digits_recursive(number):\n",
    "    \"\"\"\n",
    "    接收一个整数number，然后不断地将每一位相加，直到结果为一位数或者小于10。\n",
    "    \n",
    "    参数:\n",
    "    number: int, 需要进行连续相加的数字。\n",
    "    \n",
    "    返回:\n",
    "    sum_result: int, 相加后得到的一位数或者小于10的数。\n",
    "    \"\"\"\n",
    "    # 将数字转换为字符串，以便于迭代每一位\n",
    "    num_str = str(number)\n",
    "    \n",
    "    # 初始化相加的和\n",
    "    total = 0\n",
    "    \n",
    "    # 遍历字符串中的每一位数字，并将其转换为整数相加\n",
    "    for char in num_str:\n",
    "        total += int(char)\n",
    "    \n",
    "    # 如果总和小于10，直接返回结果\n",
    "    if total < 10:\n",
    "        return total\n",
    "    else:\n",
    "        # 否则，递归调用函数继续相加\n",
    "        return sum_digits_recursive(total)\n",
    "\n",
    "# 测试代码\n",
    "given_number = 955\n",
    "result = sum_digits_recursive(given_number)\n",
    "print(f\"数字 {given_number} 每一位相加的结果是: {result}\")\n",
    "\n"
   ]
  },
  {
   "cell_type": "code",
   "execution_count": 37,
   "metadata": {},
   "outputs": [
    {
     "name": "stdout",
     "output_type": "stream",
     "text": [
      "955的奇偶情况: ['奇', '奇', '奇', '奇']\n"
     ]
    }
   ],
   "source": [
    "\n",
    "def check_odd_even_with_sum(number, x):\n",
    "    odd_even_status = []\n",
    "    odd_even_status = check_odd_even(number,x)\n",
    "    sum_num = sum_digits_recursive(number)   # 和值，只保留一位\n",
    " #   print(f\"{number}的和值归一是：{sum_num}\")\n",
    "    if int(sum_num)% 2 == 0:\n",
    "        odd_even_status.append(\"偶\")\n",
    "    else:\n",
    "        odd_even_status.append(\"奇\")\n",
    "    return odd_even_status\n",
    "\n",
    "# 测试代码\n",
    "given_number = 955\n",
    "result = check_odd_even_with_sum(given_number,3)\n",
    "print(f\"{given_number}的奇偶情况: {result}\")"
   ]
  },
  {
   "cell_type": "code",
   "execution_count": 38,
   "metadata": {},
   "outputs": [
    {
     "name": "stdout",
     "output_type": "stream",
     "text": [
      "135的奇偶情况（最后一位是和值奇偶性）: ['奇', '奇', '奇', '奇']\n",
      "135是否奇偶极限模式: True\n"
     ]
    }
   ],
   "source": [
    "# 判断是否为奇偶极限情况，即四个元素都是一样的，例如['奇', '奇', '奇', '奇']或['偶', '偶', '偶', '偶']\n",
    "\n",
    "def is_all_elements_same(arr):\n",
    "    \"\"\"\n",
    "    判断数组arr中的所有元素是否相同。\n",
    "    \n",
    "    参数:\n",
    "    arr: list, 需要判断的数组。\n",
    "    \n",
    "    返回:\n",
    "    bool, 如果所有元素都相同返回True，否则返回False。\n",
    "    \"\"\"\n",
    "    # 检查数组是否为空或只有一个元素\n",
    "    if len(arr) == 0 or len(arr) == 1:\n",
    "        return True\n",
    "    \n",
    "    # 取数组的第一个元素\n",
    "    first_element = arr[0]\n",
    "    \n",
    "    # 遍历数组的其余元素，检查是否与第一个元素相同\n",
    "    for element in arr[1:]:\n",
    "        if element != first_element:\n",
    "            return False\n",
    "    \n",
    "    # 如果所有元素都相同，返回True\n",
    "    return True\n",
    "\n",
    "# 示例使用\n",
    "given_number = 135\n",
    "given_array = check_odd_even_with_sum(given_number,3)\n",
    "result = is_all_elements_same(given_array)\n",
    "print(f\"{given_number}的奇偶情况（最后一位是和值奇偶性）: {given_array}\")\n",
    "print(f\"{given_number}是否奇偶极限模式: {result}\")"
   ]
  },
  {
   "cell_type": "code",
   "execution_count": 39,
   "metadata": {},
   "outputs": [
    {
     "name": "stdout",
     "output_type": "stream",
     "text": [
      "win_numbers length: 3930\n",
      "OddEvenLimit length: 391\n",
      "奇偶极限模式中奖几率：0.0994910941475827\n",
      "非奇偶极限模式中奖几率：0.9005089058524173\n"
     ]
    }
   ],
   "source": [
    "### 判断过往中奖里有多大几率是奇偶极限模式 ###\n",
    "\n",
    "import tools\n",
    "def PatternRate_OddEvenLimit(n=None):\n",
    "    OddEvenLimit_numbers = []  \n",
    "    if n is None:\n",
    "        win_numbers = tools.get_lottery_numbers_list()\n",
    "    else:\n",
    "        win_numbers = tools.get_lottery_numbers_list(n)\n",
    "    print(f\"win_numbers length: {len(win_numbers)}\")\n",
    "    \n",
    "    # 当开奖号码符合模式时记录\n",
    "    for num in win_numbers:  \n",
    "        given_array = check_odd_even_with_sum(num,3)\n",
    "        result = is_all_elements_same(given_array)\n",
    "        #print(f\"{num}的奇偶性是{given_array}，奇偶极限情况：{result}\")\n",
    "        if result:   \n",
    "            OddEvenLimit_numbers.append(num)\n",
    "\n",
    "    if OddEvenLimit_numbers:  \n",
    "        pattern_rate = len(OddEvenLimit_numbers) / len(win_numbers)  #返回符合模式的几率\n",
    "        print(f\"OddEvenLimit length: {len(OddEvenLimit_numbers) }\")\n",
    "        return pattern_rate\n",
    "    else:\n",
    "        return 0  # 如果没有找到，返回空列表和0\n",
    "    \n",
    "# 测试代码\n",
    "k = PatternRate_OddEvenLimit()\n",
    "print(\"奇偶极限模式中奖几率：\"+str(k))\n",
    "print(\"非奇偶极限模式中奖几率：\"+str(1-k))"
   ]
  },
  {
   "cell_type": "code",
   "execution_count": 47,
   "metadata": {},
   "outputs": [
    {
     "name": "stdout",
     "output_type": "stream",
     "text": [
      "['奇', '偶', '偶', '偶']\n",
      "['奇', '偶', '偶', '偶']\n",
      "580和920的奇偶性质是否一致：True\n"
     ]
    }
   ],
   "source": [
    "# 判断两个数字是否奇偶性质一致\n",
    "def PatternMatch_OddEven(num1, num2):\n",
    "    \"\"\"\n",
    "    判断两个三位数的奇偶性质是否完全一致。\n",
    "    \n",
    "    返回:\n",
    "    bool, 如果两个数组的元素完全一致返回True，否则返回False。\n",
    "    \"\"\"\n",
    "    arr1 = check_odd_even_with_sum(num1,3)\n",
    "    print(arr1)\n",
    "    arr2 = check_odd_even_with_sum(num2,3)\n",
    "    print(arr2)\n",
    "    # 首先检查两个数组的长度是否相同\n",
    "    if len(arr1) != len(arr2):\n",
    "        return False\n",
    "    \n",
    "    # 使用列表推导式和all()函数检查每个元素是否一致\n",
    "    return all(a == b for a, b in zip(arr1, arr2))\n",
    "\n",
    "#测试代码\n",
    "num1 = 580\n",
    "num2 = 920\n",
    "result = PatternMatch_OddEven(num1, num2)\n",
    "print(f\"{num1}和{num2}的奇偶性质是否一致：{result}\")"
   ]
  }
 ],
 "metadata": {
  "kernelspec": {
   "display_name": "Python 3",
   "language": "python",
   "name": "python3"
  },
  "language_info": {
   "codemirror_mode": {
    "name": "ipython",
    "version": 3
   },
   "file_extension": ".py",
   "mimetype": "text/x-python",
   "name": "python",
   "nbconvert_exporter": "python",
   "pygments_lexer": "ipython3",
   "version": "3.12.2"
  }
 },
 "nbformat": 4,
 "nbformat_minor": 2
}
