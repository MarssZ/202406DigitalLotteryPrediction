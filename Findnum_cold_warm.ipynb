{
 "cells": [
  {
   "cell_type": "code",
   "execution_count": 1,
   "metadata": {},
   "outputs": [
    {
     "name": "stdout",
     "output_type": "stream",
     "text": [
      "        期号           开奖日期  开奖号码\n",
      "0  2024144  2024-06-02(日)   816\n",
      "1  2024143  2024-06-01(六)   955\n",
      "2  2024142  2024-05-31(五)   813\n",
      "3  2024141  2024-05-30(四)   256\n",
      "4  2024140  2024-05-29(三)   536\n",
      "5  2024139  2024-05-28(二)   748\n",
      "6  2024138  2024-05-27(一)   955\n",
      "7  2024137  2024-05-26(日)   982\n",
      "8  2024136  2024-05-25(六)   227\n",
      "9  2024135  2024-05-24(五)    35\n"
     ]
    }
   ],
   "source": [
    "### 计算历史开奖次数 ###\n",
    "\n",
    "import pandas as pd\n",
    "# 超参数\n",
    "COLS_ALL = ['期号', '开奖日期', '开奖号码']\n",
    "COLS_Y = ['开奖号码']\n",
    "file_path = 'Data\\福彩3D历史开奖.csv'\n",
    "# 读取excel文件并获取指定列\n",
    "df = pd.read_csv(file_path,usecols=COLS_ALL, encoding='GBK')\n",
    "\n",
    "# 如果遇到错误，可以打印文件的列名来检查\n",
    "if df.empty:\n",
    "    print(\"列名可能不匹配，这里是文件的列名：\")\n",
    "    with open(file_path, 'r') as f:\n",
    "        print(f.readline().strip().split(','))  # 假设CSV文件使用逗号分隔\n",
    "\n",
    "print(df.head(10))\n"
   ]
  },
  {
   "cell_type": "code",
   "execution_count": 2,
   "metadata": {},
   "outputs": [
    {
     "name": "stdout",
     "output_type": "stream",
     "text": [
      "读取cvs文件: Data\\福彩3D历史开奖.csv\n",
      "生成投注数字 486 ...\n",
      "该数字在历史上开出中奖 4 次...\n",
      "生成投注数字 95 ...\n",
      "该数字在历史上开出中奖 2 次...\n",
      "生成投注数字 379 ...\n",
      "该数字在历史上开出中奖 3 次...\n",
      "生成投注数字 785 ...\n",
      "该数字在历史上开出中奖 3 次...\n",
      "生成投注数字 385 ...\n",
      "该数字在历史上开出中奖 3 次...\n",
      "生成投注数字 813 ...\n",
      "该数字在历史上开出中奖 7 次...\n",
      "生成投注数字 768 ...\n",
      "该数字在历史上开出中奖 3 次...\n",
      "生成投注数字 20 ...\n",
      "该数字在历史上开出中奖 11 次...\n",
      "生成投注数字 933 ...\n",
      "该数字在历史上开出中奖 3 次...\n",
      "生成投注数字 392 ...\n",
      "该数字在历史上开出中奖 6 次...\n",
      "生成投注数字 882 ...\n",
      "该数字在历史上开出中奖 5 次...\n",
      "生成投注数字 790 ...\n",
      "该数字在历史上开出中奖 2 次...\n",
      "生成投注数字 743 ...\n",
      "该数字在历史上开出中奖 4 次...\n",
      "生成投注数字 529 ...\n",
      "该数字在历史上开出中奖 2 次...\n",
      "生成投注数字 534 ...\n",
      "该数字在历史上开出中奖 0 次...\n"
     ]
    },
    {
     "data": {
      "text/plain": [
       "534"
      ]
     },
     "execution_count": 2,
     "metadata": {},
     "output_type": "execute_result"
    }
   ],
   "source": [
    "### 生成冷号 ###\n",
    "import random\n",
    "import tools\n",
    "\n",
    "# 新函数，生成随机数字并检验\n",
    "def find_number_cold():\n",
    "    while True:\n",
    "        # 随机生成一个0到999（包含）的数字\n",
    "        random_number = random.randint(0, 999)\n",
    "        print(f\"生成投注数字 {random_number} ...\")\n",
    "        # 使用 count_occurrences 函数检验随机数字出现的次数\n",
    "        count = tools.count_occurrences(random_number)\n",
    "        print(f\"该数字在历史上开出中奖 {count} 次...\")\n",
    "        # 如果出现次数少于2，则返回该数字\n",
    "        if count < 2:\n",
    "            return random_number\n",
    "        # 否则继续循环，生成新的随机数字\n",
    "        \n",
    "#测试代码\n",
    "find_number_cold()"
   ]
  },
  {
   "cell_type": "code",
   "execution_count": 3,
   "metadata": {},
   "outputs": [
    {
     "name": "stdout",
     "output_type": "stream",
     "text": [
      "生成投注数字 773 ...\n",
      "该数字在历史上开出中奖 3 次...\n"
     ]
    },
    {
     "data": {
      "text/plain": [
       "773"
      ]
     },
     "execution_count": 3,
     "metadata": {},
     "output_type": "execute_result"
    }
   ],
   "source": [
    "### 生成热号 ###\n",
    "### 020在历史上开出来20次，相当于每近200期一次，这已经远远大于平均值了，所以所有数字并不是平均出现的 ###\n",
    "import random\n",
    "\n",
    "# 新函数，生成随机数字并检验\n",
    "def find_number_cold():\n",
    "    while True:\n",
    "        # 随机生成一个0到999（包含）的数字\n",
    "        random_number = random.randint(0, 999)\n",
    "        print(f\"生成投注数字 {random_number} ...\")\n",
    "        # 使用 count_occurrences 函数检验随机数字出现的次数\n",
    "        count = tools.count_occurrences( random_number)\n",
    "        print(f\"该数字在历史上开出中奖 {count} 次...\")\n",
    "        # 如果出现次数少于2，则返回该数字\n",
    "        if count > 2:\n",
    "            return random_number\n",
    "        # 否则继续循环，生成新的随机数字\n",
    "        \n",
    "#测试代码\n",
    "find_number_cold()"
   ]
  }
 ],
 "metadata": {
  "kernelspec": {
   "display_name": "base",
   "language": "python",
   "name": "python3"
  },
  "language_info": {
   "codemirror_mode": {
    "name": "ipython",
    "version": 3
   },
   "file_extension": ".py",
   "mimetype": "text/x-python",
   "name": "python",
   "nbconvert_exporter": "python",
   "pygments_lexer": "ipython3",
   "version": "3.11.7"
  }
 },
 "nbformat": 4,
 "nbformat_minor": 2
}
