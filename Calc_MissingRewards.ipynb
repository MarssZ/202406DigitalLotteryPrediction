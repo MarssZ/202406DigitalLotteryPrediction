{
 "cells": [
  {
   "cell_type": "code",
   "execution_count": 1,
   "metadata": {},
   "outputs": [
    {
     "name": "stdout",
     "output_type": "stream",
     "text": [
      "        期号           开奖日期  开奖号码\n",
      "0  2024144  2024-06-02(日)   816\n",
      "1  2024143  2024-06-01(六)   955\n",
      "2  2024142  2024-05-31(五)   813\n",
      "3  2024141  2024-05-30(四)   256\n",
      "4  2024140  2024-05-29(三)   536\n",
      "5  2024139  2024-05-28(二)   748\n",
      "6  2024138  2024-05-27(一)   955\n",
      "7  2024137  2024-05-26(日)   982\n",
      "8  2024136  2024-05-25(六)   227\n",
      "9  2024135  2024-05-24(五)    35\n"
     ]
    }
   ],
   "source": [
    "### 计算遗漏值 ###\n",
    "\n",
    "import pandas as pd\n",
    "# 超参数\n",
    "COLS_ALL = ['期号', '开奖日期', '开奖号码']\n",
    "file_path = 'Data\\福彩3D历史开奖.csv'\n",
    "file_path_save = 'Data\\福彩3D历史开奖_间隔.csv'\n",
    "# 读取excel文件并获取指定列\n",
    "df = pd.read_csv(file_path, usecols=COLS_ALL, encoding='GBK')\n",
    "\n",
    "# 如果遇到错误，可以打印文件的列名来检查\n",
    "if df.empty:\n",
    "    print(\"列名可能不匹配，这里是文件的列名：\")\n",
    "    with open(file_path, 'r') as f:\n",
    "        print(f.readline().strip().split(','))  # 假设CSV文件使用逗号分隔\n",
    "\n",
    "print(df.head(10))\n"
   ]
  },
  {
   "cell_type": "code",
   "execution_count": 27,
   "metadata": {},
   "outputs": [
    {
     "name": "stdout",
     "output_type": "stream",
     "text": [
      "           期号           开奖日期  开奖号码    间隔\n",
      "0     2024144  2024-06-02(日)   816   826\n",
      "1     2024143  2024-06-01(六)   955     5\n",
      "2     2024142  2024-05-31(五)   813   990\n",
      "3     2024141  2024-05-30(四)   256   716\n",
      "4     2024140  2024-05-29(三)   536   687\n",
      "...       ...            ...   ...   ...\n",
      "3925  2013038  2013-02-07(四)   640  None\n",
      "3926  2013037  2013-02-06(三)   364  None\n",
      "3927  2013036  2013-02-05(二)   658  None\n",
      "3928  2013033  2013-02-02(六)   277  None\n",
      "3929  2013030  2013-01-30(三)   732  None\n",
      "\n",
      "[3930 rows x 4 columns]\n"
     ]
    }
   ],
   "source": [
    "\n",
    "# 创建一个空字典来存储每个号码上一次出现的索引\n",
    "last_seen_index = {}\n",
    "\n",
    "# 初始化一个新列来存储间隔\n",
    "df['间隔'] = None\n",
    "\n",
    "# 倒序遍历DataFrame，更新字典中的索引，并计算间隔\n",
    "for current_index in range(len(df) - 1, -1, -1):\n",
    "    number = df.at[current_index, '开奖号码']\n",
    "    if number in last_seen_index:\n",
    "        # 如果当前号码之前出现过，计算间隔\n",
    "        interval = last_seen_index[number] - current_index\n",
    "        df.at[current_index, '间隔'] = interval\n",
    "    # 更新或添加号码的上一次出现索引\n",
    "    last_seen_index[number] = current_index\n",
    "    \n",
    "# 打印结果\n",
    "print(df)\n",
    "\n",
    "df.to_csv(file_path_save, index=False)"
   ]
  }
 ],
 "metadata": {
  "kernelspec": {
   "display_name": "base",
   "language": "python",
   "name": "python3"
  },
  "language_info": {
   "codemirror_mode": {
    "name": "ipython",
    "version": 3
   },
   "file_extension": ".py",
   "mimetype": "text/x-python",
   "name": "python",
   "nbconvert_exporter": "python",
   "pygments_lexer": "ipython3",
   "version": "3.11.7"
  }
 },
 "nbformat": 4,
 "nbformat_minor": 2
}
