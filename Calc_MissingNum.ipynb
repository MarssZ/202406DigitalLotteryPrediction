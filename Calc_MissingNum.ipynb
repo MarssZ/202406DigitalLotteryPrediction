{
 "cells": [
  {
   "cell_type": "code",
   "execution_count": 21,
   "metadata": {},
   "outputs": [
    {
     "name": "stdout",
     "output_type": "stream",
     "text": [
      "        期号           开奖日期  开奖号码1  开奖号码2  开奖号码3  开奖号码\n",
      "0  2024144  2024-06-02(日)      8      1      6   816\n",
      "1  2024143  2024-06-01(六)      9      5      5   955\n",
      "2  2024142  2024-05-31(五)      8      1      3   813\n",
      "3  2024141  2024-05-30(四)      2      5      6   256\n",
      "4  2024140  2024-05-29(三)      5      3      6   536\n",
      "5  2024139  2024-05-28(二)      7      4      8   748\n",
      "6  2024138  2024-05-27(一)      9      5      5   955\n",
      "7  2024137  2024-05-26(日)      9      8      2   982\n",
      "8  2024136  2024-05-25(六)      2      2      7   227\n",
      "9  2024135  2024-05-24(五)      0      3      5    35\n"
     ]
    }
   ],
   "source": [
    "### 计算遗漏值 ###\n",
    "\n",
    "import pandas as pd\n",
    "# 超参数\n",
    "COLS_BALL_1 = '开奖号码1'\n",
    "COLS_BALL_2 = '开奖号码2'\n",
    "COLS_BALL_3 = '开奖号码3'\n",
    "COLS_ALL = ['期号', '开奖日期', '开奖号码', COLS_BALL_1, COLS_BALL_2, COLS_BALL_3]\n",
    "file_path = 'Data\\福彩3D历史开奖.csv'\n",
    "file_path_save = 'Data\\福彩3D历史开奖_间隔.csv'\n",
    "\n",
    "# 读取excel文件并获取指定列\n",
    "df = pd.read_csv(file_path, usecols=COLS_ALL, encoding='GBK')\n",
    "\n",
    "# 如果遇到错误，可以打印文件的列名来检查\n",
    "if df.empty:\n",
    "    print(\"列名可能不匹配，这里是文件的列名：\")\n",
    "    with open(file_path, 'r') as f:\n",
    "        print(f.readline().strip().split(','))  # 假设CSV文件使用逗号分隔\n",
    "\n",
    "print(df.head(10))\n"
   ]
  },
  {
   "cell_type": "code",
   "execution_count": 22,
   "metadata": {},
   "outputs": [
    {
     "name": "stdout",
     "output_type": "stream",
     "text": [
      "           期号           开奖日期  开奖号码1  开奖号码2  开奖号码3  开奖号码    间隔\n",
      "0     2024144  2024-06-02(日)      8      1      6   816   826\n",
      "1     2024143  2024-06-01(六)      9      5      5   955     5\n",
      "2     2024142  2024-05-31(五)      8      1      3   813   990\n",
      "3     2024141  2024-05-30(四)      2      5      6   256   716\n",
      "4     2024140  2024-05-29(三)      5      3      6   536   687\n",
      "...       ...            ...    ...    ...    ...   ...   ...\n",
      "3925  2013038  2013-02-07(四)      6      4      0   640  None\n",
      "3926  2013037  2013-02-06(三)      3      6      4   364  None\n",
      "3927  2013036  2013-02-05(二)      6      5      8   658  None\n",
      "3928  2013033  2013-02-02(六)      2      7      7   277  None\n",
      "3929  2013030  2013-01-30(三)      7      3      2   732  None\n",
      "\n",
      "[3930 rows x 7 columns]\n"
     ]
    }
   ],
   "source": [
    "## Method 1: 计算整个号码的遗漏值\n",
    "\n",
    "# 创建一个空字典来存储每个号码上一次出现的索引\n",
    "last_seen_index = {}\n",
    "\n",
    "# 初始化一个新列来存储间隔\n",
    "df['间隔'] = None\n",
    "\n",
    "# 倒序遍历DataFrame，更新字典中的索引，并计算间隔\n",
    "for current_index in range(len(df) - 1, -1, -1):\n",
    "    number = df.at[current_index, '开奖号码']\n",
    "    if number in last_seen_index:\n",
    "        # 如果当前号码之前出现过，计算间隔\n",
    "        interval = last_seen_index[number] - current_index\n",
    "        df.at[current_index, '间隔'] = interval\n",
    "    # 更新或添加号码的上一次出现索引\n",
    "    last_seen_index[number] = current_index\n",
    "    \n",
    "# 打印结果\n",
    "print(df)\n",
    "\n",
    "#"
   ]
  },
  {
   "cell_type": "code",
   "execution_count": 23,
   "metadata": {},
   "outputs": [
    {
     "name": "stdout",
     "output_type": "stream",
     "text": [
      "           期号           开奖日期  开奖号码1  开奖号码2  开奖号码3  开奖号码    间隔  1号球遗漏  2号球遗漏  \\\n",
      "0     2024144  2024-06-02(日)      8      1      6   816   826      1      1   \n",
      "1     2024143  2024-06-01(六)      9      5      5   955     5      4      1   \n",
      "2     2024142  2024-05-31(五)      8      1      3   813   990     25     14   \n",
      "3     2024141  2024-05-30(四)      2      5      6   256   716      4      2   \n",
      "4     2024140  2024-05-29(三)      5      3      6   536   687     11      4   \n",
      "...       ...            ...    ...    ...    ...   ...   ...    ...    ...   \n",
      "3925  2013038  2013-02-07(四)      6      4      0   640  None      1     -1   \n",
      "3926  2013037  2013-02-06(三)      3      6      4   364  None     -1     -1   \n",
      "3927  2013036  2013-02-05(二)      6      5      8   658  None     -1     -1   \n",
      "3928  2013033  2013-02-02(六)      2      7      7   277  None     -1     -1   \n",
      "3929  2013030  2013-01-30(三)      7      3      2   732  None     -1     -1   \n",
      "\n",
      "      3号球遗漏  \n",
      "0         2  \n",
      "1         4  \n",
      "2        13  \n",
      "3         0  \n",
      "4         9  \n",
      "...     ...  \n",
      "3925     -1  \n",
      "3926     -1  \n",
      "3927     -1  \n",
      "3928     -1  \n",
      "3929     -1  \n",
      "\n",
      "[3930 rows x 10 columns]\n"
     ]
    }
   ],
   "source": [
    "## Method 2: 找单球遗漏\n",
    "\n",
    "# 找遗漏：找到列中每个元素之后相同数字出现的下一个索引与当前索引的间隔\n",
    "def find_next_occurrence(column, value, start_index):\n",
    "    for i in range(start_index + 1, len(column)):\n",
    "        if column[i] == value:\n",
    "            yilou = i - start_index - 1\n",
    "            return yilou \n",
    "    return -1\n",
    "\n",
    "# 应用这个函数到 DataFrame 的列 'A' 上\n",
    "COLS_BALL_1_YiLou = '1号球遗漏'\n",
    "COLS_BALL_2_YiLou = '2号球遗漏'\n",
    "COLS_BALL_3_YiLou = '3号球遗漏'\n",
    "df[COLS_BALL_1_YiLou] = df.apply(lambda row: find_next_occurrence(df[COLS_BALL_1], row[COLS_BALL_1], df.index.get_loc(row.name)), axis=1)\n",
    "df[COLS_BALL_2_YiLou] = df.apply(lambda row: find_next_occurrence(df[COLS_BALL_2], row[COLS_BALL_2], df.index.get_loc(row.name)), axis=1)\n",
    "df[COLS_BALL_3_YiLou] = df.apply(lambda row: find_next_occurrence(df[COLS_BALL_3], row[COLS_BALL_3], df.index.get_loc(row.name)), axis=1)\n",
    "\n",
    "# 打印结果\n",
    "print(df)\n",
    "\n"
   ]
  },
  {
   "cell_type": "code",
   "execution_count": 24,
   "metadata": {},
   "outputs": [
    {
     "name": "stdout",
     "output_type": "stream",
     "text": [
      "           期号           开奖日期  开奖号码1  开奖号码2  开奖号码3  开奖号码    间隔  1号球遗漏  2号球遗漏  \\\n",
      "0     2024144  2024-06-02(日)      8      1      6   816   826      1      1   \n",
      "1     2024143  2024-06-01(六)      9      5      5   955     5      4      1   \n",
      "2     2024142  2024-05-31(五)      8      1      3   813   990     25     14   \n",
      "3     2024141  2024-05-30(四)      2      5      6   256   716      4      2   \n",
      "4     2024140  2024-05-29(三)      5      3      6   536   687     11      4   \n",
      "...       ...            ...    ...    ...    ...   ...   ...    ...    ...   \n",
      "3925  2013038  2013-02-07(四)      6      4      0   640  None      1     -1   \n",
      "3926  2013037  2013-02-06(三)      3      6      4   364  None     -1     -1   \n",
      "3927  2013036  2013-02-05(二)      6      5      8   658  None     -1     -1   \n",
      "3928  2013033  2013-02-02(六)      2      7      7   277  None     -1     -1   \n",
      "3929  2013030  2013-01-30(三)      7      3      2   732  None     -1     -1   \n",
      "\n",
      "      3号球遗漏  1号球全局遗漏  2号球全局遗漏  3号球全局遗漏  \n",
      "0         2        1        1        2  \n",
      "1         4        4        1        1  \n",
      "2        13        2        8        1  \n",
      "3         0        3        0        0  \n",
      "4         9        1        4        5  \n",
      "...     ...      ...      ...      ...  \n",
      "3925     -1        0        0       -1  \n",
      "3926     -1        2        0       -1  \n",
      "3927     -1       -1       -1       -1  \n",
      "3928     -1        0        0        0  \n",
      "3929     -1       -1       -1       -1  \n",
      "\n",
      "[3930 rows x 13 columns]\n"
     ]
    }
   ],
   "source": [
    "## Method 3: 找多球遗漏\n",
    "def find_next_occurrence_in_columns(df, columns, value, start_index):\n",
    "    for i in range(start_index + 1, len(df)):\n",
    "        # 遍历每一列\n",
    "        for col in columns:\n",
    "            if df[col][i] == value:\n",
    "                return i - start_index - 1  # 返回从当前索引到起始索引之间的距离\n",
    "    return -1  # 如果没有找到匹配的值，则返回-1\n",
    "\n",
    "columns_to_check = [COLS_BALL_1, COLS_BALL_2, COLS_BALL_3]  # 假设这是你想要检查的列名列表\n",
    "COLS_BALL_1_YiLouALL = '1号球全局遗漏'\n",
    "COLS_BALL_2_YiLouALL = '2号球全局遗漏'\n",
    "COLS_BALL_3_YiLouALL = '3号球全局遗漏'\n",
    "df[COLS_BALL_1_YiLouALL] = df.apply(\n",
    "    lambda row: find_next_occurrence_in_columns(df, columns_to_check, row[COLS_BALL_1], df.index.get_loc(row.name)),\n",
    "    axis=1\n",
    ")\n",
    "df[COLS_BALL_2_YiLouALL] = df.apply(\n",
    "    lambda row: find_next_occurrence_in_columns(df, columns_to_check, row[COLS_BALL_2], df.index.get_loc(row.name)),\n",
    "    axis=1\n",
    ")\n",
    "df[COLS_BALL_3_YiLouALL] = df.apply(\n",
    "    lambda row: find_next_occurrence_in_columns(df, columns_to_check, row[COLS_BALL_3], df.index.get_loc(row.name)),\n",
    "    axis=1\n",
    ")\n",
    "print(df)\n"
   ]
  },
  {
   "cell_type": "code",
   "execution_count": 25,
   "metadata": {},
   "outputs": [],
   "source": [
    "df.to_csv(file_path_save, index=False)"
   ]
  }
 ],
 "metadata": {
  "kernelspec": {
   "display_name": "base",
   "language": "python",
   "name": "python3"
  },
  "language_info": {
   "codemirror_mode": {
    "name": "ipython",
    "version": 3
   },
   "file_extension": ".py",
   "mimetype": "text/x-python",
   "name": "python",
   "nbconvert_exporter": "python",
   "pygments_lexer": "ipython3",
   "version": "3.11.7"
  }
 },
 "nbformat": 4,
 "nbformat_minor": 2
}
