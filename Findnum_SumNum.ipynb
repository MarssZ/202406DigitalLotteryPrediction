{
 "cells": [
  {
   "cell_type": "code",
   "execution_count": 16,
   "metadata": {},
   "outputs": [
    {
     "name": "stdout",
     "output_type": "stream",
     "text": [
      "数字13的和值是：4\n"
     ]
    }
   ],
   "source": [
    "### 判断是否为和值极限情况，计算和值极限情况中奖率 ###\n",
    "\n",
    "# 获取一个数字的和值 \n",
    "def get_SumNum(num):\n",
    "    \n",
    "    str_num = str(num).zfill(3) # 将数字转换为3位数的字符串，并在前面补零（如果需要）\n",
    "    sum_num = 0  #初始化和值\n",
    "\n",
    "    for digit in str_num: # \n",
    "        sum_num += int(digit)\n",
    "    \n",
    "    return sum_num\n",
    "\n",
    "# 测试用例\n",
    "test_num = 13\n",
    "print(f\"数字{test_num}的和值是：{get_SumNum(test_num)}\")\n",
    "        "
   ]
  },
  {
   "cell_type": "code",
   "execution_count": 17,
   "metadata": {},
   "outputs": [
    {
     "name": "stdout",
     "output_type": "stream",
     "text": [
      "数字188的和值是否是极限值：False\n"
     ]
    }
   ],
   "source": [
    "# 判断是否为和值极限情况\n",
    "def is_SumNum_Limit(num):\n",
    "    sum_num = get_SumNum(num)\n",
    "    if sum_num >22 or sum_num<5:\n",
    "        return True\n",
    "    else:\n",
    "        return False\n",
    "\n",
    "# 测试用例\n",
    "test_num = 188\n",
    "print(f\"数字{test_num}的和值是否是极限值：{is_SumNum_Limit(test_num)}\")"
   ]
  },
  {
   "cell_type": "code",
   "execution_count": 19,
   "metadata": {},
   "outputs": [
    {
     "name": "stdout",
     "output_type": "stream",
     "text": [
      "win_numbers length: 300\n",
      "SumNumLimit_numbers length: 18\n",
      "和值极限模式中奖几率：0.06\n",
      "非和值极限模式中奖几率：0.94\n"
     ]
    }
   ],
   "source": [
    "### 判断过往中奖里有多大几率是和值极限模式 ###\n",
    "import tools\n",
    "def PatternRate_SumNumLimit(n=None):\n",
    "    SumNumLimit_numbers = []  \n",
    "    if n is None:\n",
    "        win_numbers = tools.get_lottery_numbers_list()\n",
    "    else:\n",
    "        win_numbers = tools.get_lottery_numbers_list(n)\n",
    "    print(f\"win_numbers length: {len(win_numbers)}\")\n",
    "    \n",
    "    # 当开奖号码符合模式时记录\n",
    "    for num in win_numbers:  \n",
    "        if is_SumNum_Limit(num):   \n",
    "            SumNumLimit_numbers.append(num)\n",
    "\n",
    "    if SumNumLimit_numbers:  \n",
    "        pattern_rate = len(SumNumLimit_numbers) / len(win_numbers)  #返回符合模式的几率\n",
    "        print(f\"SumNumLimit_numbers length: {len(SumNumLimit_numbers) }\")\n",
    "        return pattern_rate\n",
    "    else:\n",
    "        return 0  # 如果没有找到，返回空列表和0\n",
    "    \n",
    "# 测试代码\n",
    "k = PatternRate_SumNumLimit(300)\n",
    "print(\"和值极限模式中奖几率：\"+str(k))\n",
    "print(\"非和值极限模式中奖几率：\"+str(1-k))"
   ]
  }
 ],
 "metadata": {
  "kernelspec": {
   "display_name": "Python 3",
   "language": "python",
   "name": "python3"
  },
  "language_info": {
   "codemirror_mode": {
    "name": "ipython",
    "version": 3
   },
   "file_extension": ".py",
   "mimetype": "text/x-python",
   "name": "python",
   "nbconvert_exporter": "python",
   "pygments_lexer": "ipython3",
   "version": "3.12.2"
  }
 },
 "nbformat": 4,
 "nbformat_minor": 2
}
