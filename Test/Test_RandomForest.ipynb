{
 "cells": [
  {
   "cell_type": "code",
   "execution_count": 5,
   "metadata": {},
   "outputs": [
    {
     "name": "stderr",
     "output_type": "stream",
     "text": [
      "<>:8: SyntaxWarning: invalid escape sequence '\\D'\n",
      "<>:8: SyntaxWarning: invalid escape sequence '\\D'\n",
      "C:\\Users\\admin\\AppData\\Local\\Temp\\ipykernel_23252\\3492195905.py:8: SyntaxWarning: invalid escape sequence '\\D'\n",
      "  df = pd.read_excel('..\\Data\\福彩3D历史开奖.xlsx', usecols=COLS_ALL)\n"
     ]
    },
    {
     "name": "stdout",
     "output_type": "stream",
     "text": [
      "     号码1  号码1奇偶  号码2  号码2奇偶  号码3  号码3奇偶  跨度  和值  下期百位是1\n",
      "0      8      0    1      1    6      0   7  15       0\n",
      "1      9      1    5      1    5      1   4  19       0\n",
      "2      8      0    1      1    3      1   7  12       0\n",
      "3      2      0    5      1    6      0   4  13       0\n",
      "4      5      1    3      1    6      0   3  14       0\n",
      "..   ...    ...  ...    ...  ...    ...  ..  ..     ...\n",
      "195    0      0    9      1    0      0   9   9       0\n",
      "196    9      1    2      0    0      0   9  11       0\n",
      "197    0      0    4      0    7      1   7  11       0\n",
      "198    2      0    2      0    6      0   4  10       0\n",
      "199    4      0    9      1    1      1   8  14       0\n",
      "\n",
      "[200 rows x 9 columns]\n"
     ]
    }
   ],
   "source": [
    "import pandas as pd\n",
    "# 超参数\n",
    "COLS_Y = '下期百位是1'\n",
    "COLS_Y_CLASSNAME = [\"不是1\", \"是1\"]\n",
    "COLS_ALL = ['号码1','号码1奇偶','号码2','号码2奇偶','号码3','号码3奇偶','跨度','和值','下期百位是1']\n",
    "\n",
    "# 读取excel文件并获取指定列\n",
    "df = pd.read_excel('..\\Data\\福彩3D历史开奖.xlsx', usecols=COLS_ALL)\n",
    "# df = pd.read_excel('..\\Data\\福彩3D历史开奖.xlsx')\n",
    "df = df[:200]\n",
    "print(df)"
   ]
  },
  {
   "cell_type": "code",
   "execution_count": 6,
   "metadata": {},
   "outputs": [
    {
     "name": "stdout",
     "output_type": "stream",
     "text": [
      "(160, 8)\n",
      "(40, 8)\n"
     ]
    }
   ],
   "source": [
    "from sklearn.model_selection import train_test_split\n",
    "\n",
    "## 取需要训练的值\n",
    "cols_x = df.drop(columns=COLS_Y)\n",
    "cols_y = df[COLS_Y]\n",
    "cols_x_names = cols_x.columns.tolist()\n",
    "\n",
    "Xtrain, Xtest, Ytrain, ytest = train_test_split(cols_x,cols_y,test_size=0.2, random_state=180) \n",
    "\n",
    "print(Xtrain.shape)\n",
    "print(Xtest.shape)\n",
    "\n"
   ]
  },
  {
   "cell_type": "code",
   "execution_count": 7,
   "metadata": {},
   "outputs": [
    {
     "name": "stdout",
     "output_type": "stream",
     "text": [
      "Accuracy: 0.9\n",
      "              precision    recall  f1-score   support\n",
      "\n",
      "           0       0.90      1.00      0.95        36\n",
      "           1       0.00      0.00      0.00         4\n",
      "\n",
      "    accuracy                           0.90        40\n",
      "   macro avg       0.45      0.50      0.47        40\n",
      "weighted avg       0.81      0.90      0.85        40\n",
      "\n"
     ]
    },
    {
     "name": "stderr",
     "output_type": "stream",
     "text": [
      "d:\\Python312\\Lib\\site-packages\\sklearn\\metrics\\_classification.py:1509: UndefinedMetricWarning: Precision is ill-defined and being set to 0.0 in labels with no predicted samples. Use `zero_division` parameter to control this behavior.\n",
      "  _warn_prf(average, modifier, f\"{metric.capitalize()} is\", len(result))\n",
      "d:\\Python312\\Lib\\site-packages\\sklearn\\metrics\\_classification.py:1509: UndefinedMetricWarning: Precision is ill-defined and being set to 0.0 in labels with no predicted samples. Use `zero_division` parameter to control this behavior.\n",
      "  _warn_prf(average, modifier, f\"{metric.capitalize()} is\", len(result))\n",
      "d:\\Python312\\Lib\\site-packages\\sklearn\\metrics\\_classification.py:1509: UndefinedMetricWarning: Precision is ill-defined and being set to 0.0 in labels with no predicted samples. Use `zero_division` parameter to control this behavior.\n",
      "  _warn_prf(average, modifier, f\"{metric.capitalize()} is\", len(result))\n"
     ]
    }
   ],
   "source": [
    "from sklearn.ensemble import RandomForestClassifier\n",
    "from sklearn.metrics import classification_report, accuracy_score\n",
    "\n",
    "\n",
    "# 训练模型\n",
    "clf = RandomForestClassifier(n_estimators=100, random_state = 42)  #最大{max_depth}层，最少也需要{lefa}个样本才生成分支\n",
    "clf = clf.fit(Xtrain, Ytrain) \n",
    "\n",
    "# 预测测试集\n",
    "y_pred = clf.predict(Xtest)\n",
    "\n",
    "# 评估模型\n",
    "print(\"Accuracy:\", accuracy_score(ytest, y_pred))\n",
    "print(classification_report(ytest, y_pred))\n",
    "\n",
    "\n",
    "#print('精准度： '+str(clf.score(Xtest, ytest))) #返回预测的准确度\n",
    "#print([*zip(feature_name,clf.feature_importances_)]) #返回决策树各自变量的重要程度"
   ]
  }
 ],
 "metadata": {
  "kernelspec": {
   "display_name": "Python 3",
   "language": "python",
   "name": "python3"
  },
  "language_info": {
   "codemirror_mode": {
    "name": "ipython",
    "version": 3
   },
   "file_extension": ".py",
   "mimetype": "text/x-python",
   "name": "python",
   "nbconvert_exporter": "python",
   "pygments_lexer": "ipython3",
   "version": "3.12.2"
  }
 },
 "nbformat": 4,
 "nbformat_minor": 2
}
