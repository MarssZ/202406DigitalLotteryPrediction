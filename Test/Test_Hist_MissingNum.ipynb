{
 "cells": [
  {
   "cell_type": "code",
   "execution_count": 16,
   "metadata": {},
   "outputs": [
    {
     "name": "stdout",
     "output_type": "stream",
     "text": [
      "读取cvs文件: ../Data/福彩3D历史开奖_间隔.csv\n",
      "           期号  1号球全局遗漏  2号球全局遗漏  3号球全局遗漏  test5  test10  test7\n",
      "0     2024144        1        1        2    0.0    12.0   12.0\n",
      "1     2024143        4        1        1    1.0     1.0    1.0\n",
      "2     2024142        2        8        1    1.0     6.0    6.0\n",
      "3     2024141        3        0        0    0.0     7.0    7.0\n",
      "4     2024140        1        4        5    2.0     7.0    7.0\n",
      "...       ...      ...      ...      ...    ...     ...    ...\n",
      "3925  2013038        0        0       -1    NaN     NaN    NaN\n",
      "3926  2013037        2        0       -1    NaN     NaN    NaN\n",
      "3927  2013036       -1       -1       -1    NaN     NaN    NaN\n",
      "3928  2013033        0        0        0    NaN     NaN    NaN\n",
      "3929  2013030       -1       -1       -1    NaN     NaN    NaN\n",
      "\n",
      "[3930 rows x 7 columns]\n"
     ]
    }
   ],
   "source": [
    "### 查看遗漏的直方图\n",
    "\n",
    "import pandas as pd\n",
    "import numpy as np\n",
    "import matplotlib.pyplot as plt\n",
    "from scipy import stats\n",
    "from scipy.stats import norm\n",
    "\n",
    "# 读取excel文件并获取指定列\n",
    "file_path = '../Data/福彩3D历史开奖_间隔.csv'\n",
    "COLS_ALL = ['期号', '1号球全局遗漏', '2号球全局遗漏', '3号球全局遗漏', 'test5', 'test7', 'test10']\n",
    "df = pd.read_csv(file_path,usecols=COLS_ALL, encoding='GBK')\n",
    "print('读取cvs文件: '+file_path)\n",
    "print(df)\n",
    "\n",
    "\n"
   ]
  },
  {
   "cell_type": "code",
   "execution_count": 17,
   "metadata": {},
   "outputs": [
    {
     "name": "stdout",
     "output_type": "stream",
     "text": [
      "      1号球全局遗漏\n",
      "0           1\n",
      "1           4\n",
      "2           2\n",
      "3           3\n",
      "4           1\n",
      "...       ...\n",
      "3495       12\n",
      "3496        5\n",
      "3497        1\n",
      "3498        1\n",
      "3499        3\n",
      "\n",
      "[3500 rows x 1 columns]\n"
     ]
    }
   ],
   "source": [
    "# 获取某一列的数据\n",
    "COLS_Y = ['1号球全局遗漏']\n",
    "data = df[COLS_Y][:3500]\n",
    "#data = df['test5'].dropna()\n",
    "print(data)"
   ]
  },
  {
   "cell_type": "code",
   "execution_count": 18,
   "metadata": {},
   "outputs": [
    {
     "name": "stderr",
     "output_type": "stream",
     "text": [
      "d:\\Python312\\Lib\\site-packages\\numpy\\core\\fromnumeric.py:3643: FutureWarning: The behavior of DataFrame.std with axis=None is deprecated, in a future version this will reduce over both axes and return a scalar. To retain the old behavior, pass axis=0 (or do not pass axis)\n",
      "  return std(axis=axis, dtype=dtype, out=out, ddof=ddof, **kwargs)\n",
      "\u001b[32m2024-09-04 12:59:55.400\u001b[0m | \u001b[1mINFO    \u001b[0m | \u001b[36mfitter.fitter\u001b[0m:\u001b[36m_fit_single_distribution\u001b[0m:\u001b[36m337\u001b[0m - \u001b[1mFitted norm distribution with error=2.666546)\u001b[0m\n",
      "\u001b[32m2024-09-04 12:59:55.842\u001b[0m | \u001b[1mINFO    \u001b[0m | \u001b[36mfitter.fitter\u001b[0m:\u001b[36m_fit_single_distribution\u001b[0m:\u001b[36m337\u001b[0m - \u001b[1mFitted t distribution with error=2.590856)\u001b[0m\n",
      "\u001b[32m2024-09-04 12:59:55.912\u001b[0m | \u001b[1mINFO    \u001b[0m | \u001b[36mfitter.fitter\u001b[0m:\u001b[36m_fit_single_distribution\u001b[0m:\u001b[36m337\u001b[0m - \u001b[1mFitted gamma distribution with error=1.735347)\u001b[0m\n",
      "\u001b[32m2024-09-04 12:59:56.001\u001b[0m | \u001b[1mINFO    \u001b[0m | \u001b[36mfitter.fitter\u001b[0m:\u001b[36m_fit_single_distribution\u001b[0m:\u001b[36m337\u001b[0m - \u001b[1mFitted lognorm distribution with error=3.157196)\u001b[0m\n",
      "\u001b[32m2024-09-04 12:59:56.316\u001b[0m | \u001b[1mINFO    \u001b[0m | \u001b[36mfitter.fitter\u001b[0m:\u001b[36m_fit_single_distribution\u001b[0m:\u001b[36m337\u001b[0m - \u001b[1mFitted skewnorm distribution with error=2.457922)\u001b[0m\n",
      "\u001b[32m2024-09-04 12:59:56.331\u001b[0m | \u001b[1mINFO    \u001b[0m | \u001b[36mfitter.fitter\u001b[0m:\u001b[36m_fit_single_distribution\u001b[0m:\u001b[36m337\u001b[0m - \u001b[1mFitted beta distribution with error=2.014307)\u001b[0m\n"
     ]
    },
    {
     "data": {
      "text/html": [
       "<div>\n",
       "<style scoped>\n",
       "    .dataframe tbody tr th:only-of-type {\n",
       "        vertical-align: middle;\n",
       "    }\n",
       "\n",
       "    .dataframe tbody tr th {\n",
       "        vertical-align: top;\n",
       "    }\n",
       "\n",
       "    .dataframe thead th {\n",
       "        text-align: right;\n",
       "    }\n",
       "</style>\n",
       "<table border=\"1\" class=\"dataframe\">\n",
       "  <thead>\n",
       "    <tr style=\"text-align: right;\">\n",
       "      <th></th>\n",
       "      <th>sumsquare_error</th>\n",
       "      <th>aic</th>\n",
       "      <th>bic</th>\n",
       "      <th>kl_div</th>\n",
       "      <th>ks_statistic</th>\n",
       "      <th>ks_pvalue</th>\n",
       "    </tr>\n",
       "  </thead>\n",
       "  <tbody>\n",
       "    <tr>\n",
       "      <th>gamma</th>\n",
       "      <td>1.735347</td>\n",
       "      <td>1250.251130</td>\n",
       "      <td>1268.732685</td>\n",
       "      <td>inf</td>\n",
       "      <td>0.418970</td>\n",
       "      <td>0.000000e+00</td>\n",
       "    </tr>\n",
       "    <tr>\n",
       "      <th>beta</th>\n",
       "      <td>2.014307</td>\n",
       "      <td>1640.471492</td>\n",
       "      <td>1665.113565</td>\n",
       "      <td>inf</td>\n",
       "      <td>0.350191</td>\n",
       "      <td>0.000000e+00</td>\n",
       "    </tr>\n",
       "    <tr>\n",
       "      <th>skewnorm</th>\n",
       "      <td>2.457922</td>\n",
       "      <td>1278.726222</td>\n",
       "      <td>1297.207776</td>\n",
       "      <td>inf</td>\n",
       "      <td>0.270891</td>\n",
       "      <td>2.297610e-227</td>\n",
       "    </tr>\n",
       "    <tr>\n",
       "      <th>t</th>\n",
       "      <td>2.590856</td>\n",
       "      <td>1083.780417</td>\n",
       "      <td>1102.261971</td>\n",
       "      <td>inf</td>\n",
       "      <td>0.204550</td>\n",
       "      <td>6.932556e-129</td>\n",
       "    </tr>\n",
       "    <tr>\n",
       "      <th>norm</th>\n",
       "      <td>2.666546</td>\n",
       "      <td>1539.742618</td>\n",
       "      <td>1552.063655</td>\n",
       "      <td>inf</td>\n",
       "      <td>0.201008</td>\n",
       "      <td>1.957001e-124</td>\n",
       "    </tr>\n",
       "  </tbody>\n",
       "</table>\n",
       "</div>"
      ],
      "text/plain": [
       "          sumsquare_error          aic          bic  kl_div  ks_statistic  \\\n",
       "gamma            1.735347  1250.251130  1268.732685     inf      0.418970   \n",
       "beta             2.014307  1640.471492  1665.113565     inf      0.350191   \n",
       "skewnorm         2.457922  1278.726222  1297.207776     inf      0.270891   \n",
       "t                2.590856  1083.780417  1102.261971     inf      0.204550   \n",
       "norm             2.666546  1539.742618  1552.063655     inf      0.201008   \n",
       "\n",
       "              ks_pvalue  \n",
       "gamma      0.000000e+00  \n",
       "beta       0.000000e+00  \n",
       "skewnorm  2.297610e-227  \n",
       "t         6.932556e-129  \n",
       "norm      1.957001e-124  "
      ]
     },
     "execution_count": 18,
     "metadata": {},
     "output_type": "execute_result"
    },
    {
     "data": {
      "image/png": "[encoded data removed]",
      "text/plain": [
       "<Figure size 640x480 with 1 Axes>"
      ]
     },
     "metadata": {},
     "output_type": "display_data"
    }
   ],
   "source": [
    "#2# 计算绘制参数\n",
    "\n",
    "# 计算均值、标准差、中位数\n",
    "mean = np.mean(data)\n",
    "std = np.std(data)\n",
    "median = np.median(data)\n",
    "\n",
    "# 使用fitter库拟合多种分布\n",
    "from fitter import Fitter\n",
    "f = Fitter(data, distributions=['norm', 'skewnorm', 't', 'gamma', 'beta', 'lognorm'])\n",
    "f.fit()\n",
    "f.summary() #打印结果"
   ]
  },
  {
   "cell_type": "code",
   "execution_count": 21,
   "metadata": {},
   "outputs": [
    {
     "name": "stdout",
     "output_type": "stream",
     "text": [
      "       1号球全局遗漏\n",
      "0     0.000000\n",
      "1     1.386294\n",
      "2     0.693147\n",
      "3     1.098612\n",
      "4     0.000000\n",
      "...        ...\n",
      "3495  2.484907\n",
      "3496  1.609438\n",
      "3497  0.000000\n",
      "3498  0.000000\n",
      "3499  1.098612\n",
      "\n",
      "[2564 rows x 1 columns]\n"
     ]
    },
    {
     "name": "stderr",
     "output_type": "stream",
     "text": [
      "d:\\Python312\\Lib\\site-packages\\numpy\\core\\fromnumeric.py:3643: FutureWarning: The behavior of DataFrame.std with axis=None is deprecated, in a future version this will reduce over both axes and return a scalar. To retain the old behavior, pass axis=0 (or do not pass axis)\n",
      "  return std(axis=axis, dtype=dtype, out=out, ddof=ddof, **kwargs)\n"
     ]
    },
    {
     "ename": "UFuncTypeError",
     "evalue": "ufunc 'multiply' did not contain a loop with signature matching types (dtype('<U7'), dtype('float64')) -> None",
     "output_type": "error",
     "traceback": [
      "\u001b[1;31m---------------------------------------------------------------------------\u001b[0m",
      "\u001b[1;31mUFuncTypeError\u001b[0m                            Traceback (most recent call last)",
      "Cell \u001b[1;32mIn[21], line 14\u001b[0m\n\u001b[0;32m     12\u001b[0m plt\u001b[38;5;241m.\u001b[39mhist(log_data, bins\u001b[38;5;241m=\u001b[39m\u001b[38;5;241m5\u001b[39m, density\u001b[38;5;241m=\u001b[39m\u001b[38;5;28;01mTrue\u001b[39;00m, alpha\u001b[38;5;241m=\u001b[39m\u001b[38;5;241m0.6\u001b[39m, color\u001b[38;5;241m=\u001b[39m\u001b[38;5;124m'\u001b[39m\u001b[38;5;124mg\u001b[39m\u001b[38;5;124m'\u001b[39m)\n\u001b[0;32m     13\u001b[0m mu, sigma \u001b[38;5;241m=\u001b[39m np\u001b[38;5;241m.\u001b[39mmean(log_data), np\u001b[38;5;241m.\u001b[39mstd(log_data)\n\u001b[1;32m---> 14\u001b[0m x \u001b[38;5;241m=\u001b[39m \u001b[43mnp\u001b[49m\u001b[38;5;241;43m.\u001b[39;49m\u001b[43mlinspace\u001b[49m\u001b[43m(\u001b[49m\u001b[38;5;28;43mmin\u001b[39;49m\u001b[43m(\u001b[49m\u001b[43mlog_data\u001b[49m\u001b[43m)\u001b[49m\u001b[43m,\u001b[49m\u001b[43m \u001b[49m\u001b[38;5;28;43mmax\u001b[39;49m\u001b[43m(\u001b[49m\u001b[43mlog_data\u001b[49m\u001b[43m)\u001b[49m\u001b[43m,\u001b[49m\u001b[43m \u001b[49m\u001b[38;5;241;43m100\u001b[39;49m\u001b[43m)\u001b[49m\n\u001b[0;32m     15\u001b[0m plt\u001b[38;5;241m.\u001b[39mplot(x, \u001b[38;5;241m1\u001b[39m\u001b[38;5;241m/\u001b[39m(sigma \u001b[38;5;241m*\u001b[39m np\u001b[38;5;241m.\u001b[39msqrt(\u001b[38;5;241m2\u001b[39m \u001b[38;5;241m*\u001b[39m np\u001b[38;5;241m.\u001b[39mpi)) \u001b[38;5;241m*\u001b[39m np\u001b[38;5;241m.\u001b[39mexp( \u001b[38;5;241m-\u001b[39m (x \u001b[38;5;241m-\u001b[39m mu)\u001b[38;5;241m*\u001b[39m\u001b[38;5;241m*\u001b[39m\u001b[38;5;241m2\u001b[39m \u001b[38;5;241m/\u001b[39m (\u001b[38;5;241m2\u001b[39m \u001b[38;5;241m*\u001b[39m sigma\u001b[38;5;241m*\u001b[39m\u001b[38;5;241m*\u001b[39m\u001b[38;5;241m2\u001b[39m) ), linewidth\u001b[38;5;241m=\u001b[39m\u001b[38;5;241m2\u001b[39m, color\u001b[38;5;241m=\u001b[39m\u001b[38;5;124m'\u001b[39m\u001b[38;5;124mr\u001b[39m\u001b[38;5;124m'\u001b[39m)\n\u001b[0;32m     16\u001b[0m plt\u001b[38;5;241m.\u001b[39mtitle(\u001b[38;5;124m'\u001b[39m\u001b[38;5;124mHistogram of log-transformed data with normal curve\u001b[39m\u001b[38;5;124m'\u001b[39m)\n",
      "File \u001b[1;32md:\\Python312\\Lib\\site-packages\\numpy\\core\\function_base.py:129\u001b[0m, in \u001b[0;36mlinspace\u001b[1;34m(start, stop, num, endpoint, retstep, dtype, axis)\u001b[0m\n\u001b[0;32m    125\u001b[0m div \u001b[38;5;241m=\u001b[39m (num \u001b[38;5;241m-\u001b[39m \u001b[38;5;241m1\u001b[39m) \u001b[38;5;28;01mif\u001b[39;00m endpoint \u001b[38;5;28;01melse\u001b[39;00m num\n\u001b[0;32m    127\u001b[0m \u001b[38;5;66;03m# Convert float/complex array scalars to float, gh-3504\u001b[39;00m\n\u001b[0;32m    128\u001b[0m \u001b[38;5;66;03m# and make sure one can use variables that have an __array_interface__, gh-6634\u001b[39;00m\n\u001b[1;32m--> 129\u001b[0m start \u001b[38;5;241m=\u001b[39m \u001b[43masanyarray\u001b[49m\u001b[43m(\u001b[49m\u001b[43mstart\u001b[49m\u001b[43m)\u001b[49m\u001b[43m \u001b[49m\u001b[38;5;241;43m*\u001b[39;49m\u001b[43m \u001b[49m\u001b[38;5;241;43m1.0\u001b[39;49m\n\u001b[0;32m    130\u001b[0m stop  \u001b[38;5;241m=\u001b[39m asanyarray(stop)  \u001b[38;5;241m*\u001b[39m \u001b[38;5;241m1.0\u001b[39m\n\u001b[0;32m    132\u001b[0m dt \u001b[38;5;241m=\u001b[39m result_type(start, stop, \u001b[38;5;28mfloat\u001b[39m(num))\n",
      "\u001b[1;31mUFuncTypeError\u001b[0m: ufunc 'multiply' did not contain a loop with signature matching types (dtype('<U7'), dtype('float64')) -> None"
     ]
    },
    {
     "data": {
      "image/png": "[encoded data removed]",
      "text/plain": [
       "<Figure size 640x480 with 1 Axes>"
      ]
     },
     "metadata": {},
     "output_type": "display_data"
    }
   ],
   "source": [
    "# KS检验\n",
    "from scipy import stats\n",
    "from scipy.stats import kstest, lognorm\n",
    "\n",
    "# 假设data是您要检验的数据\n",
    "data = data.dropna()  # 确保移除任何 NaN 值\n",
    "data = data[data > 0]  # 对数正态分布需要正值\n",
    "log_data = np.log(data)\n",
    "print(log_data)\n",
    "\n",
    "# 绘制直方图和正态曲线\n",
    "plt.hist(log_data, bins=5, density=True, alpha=0.6, color='g')\n",
    "mu, sigma = np.mean(log_data), np.std(log_data)\n",
    "x = np.linspace(min(log_data), max(log_data), 100)\n",
    "plt.plot(x, 1/(sigma * np.sqrt(2 * np.pi)) * np.exp( - (x - mu)**2 / (2 * sigma**2) ), linewidth=2, color='r')\n",
    "plt.title('Histogram of log-transformed data with normal curve')\n",
    "plt.show()\n",
    "\n",
    "# Kolmogorov-Smirnov检验\n",
    "statistic, p_value = kstest(log_data, 'norm', args=(mu, sigma))\n",
    "print(f'KS Statistic: {statistic}')\n",
    "print(f'P-value: {p_value}')\n",
    "\n",
    "# 判断是否符合正态分布\n",
    "alpha = 0.05\n",
    "if p_value > alpha:\n",
    "    print('数据符合正态分布')\n",
    "else:\n",
    "    print('数据不符合正态分布')\n"
   ]
  },
  {
   "cell_type": "code",
   "execution_count": null,
   "metadata": {},
   "outputs": [],
   "source": [
    "#3# 绘制直方图\n",
    "\n",
    "plt.rcParams['font.sans-serif'] = ['SimHei']  # 设置中文字体\n",
    "plt.axvline(mean, color='b', linestyle='--', label='均值') # 绘制均值线（红色线）\n",
    "plt.axvline(median, color='g', linestyle='--', label='中位数') # 绘制中位数线（绿色线）\n",
    "                                                                # 绘制众数线(不用画，看最高的直方柱即是)\n",
    "plt.hist(data, bins=28, density=True, alpha=0.7) # 绘制直方图\n",
    "\n",
    "# 获取最佳拟合分布的名称和参数\n",
    "best_fit = f.get_best(method='sumsquare_error')\n",
    "best_fit_name = list(best_fit.keys())[0]\n",
    "best_fit_params = best_fit[best_fit_name]\n",
    "# 打印调试信息\n",
    "print(\"最佳拟合分布名称:\", best_fit_name)\n",
    "print(\"最佳拟合分布参数:\", best_fit_params)\n",
    "      \n",
    "from scipy.stats import norm, skewnorm, t, gamma, beta, lognorm\n",
    "\n",
    "# 创建映射从分布名称到实际的分布对象\n",
    "distribution_map = {\n",
    "    'norm': norm,\n",
    "    'skewnorm': skewnorm,\n",
    "    't': t,\n",
    "    'gamma': gamma,\n",
    "    'beta': beta,\n",
    "    'lognorm': lognorm\n",
    "}\n",
    "# 计算直方图相关参数\n",
    "hist, bins = np.histogram(data, bins=28, density=True)\n",
    "bin_centers = (bins[:-1] + bins[1:]) / 2\n",
    "\n",
    "# 计算拟合曲线的值\n",
    "bin_centers = (bins[1:] + bins[:-1]) / 2\n",
    "dist = distribution_map[best_fit_name]\n",
    "pdf_values = dist.pdf(bin_centers, **best_fit_params)\n",
    "\n",
    "plt.plot(bin_centers, pdf_vkwalues, 'r-', lw=2, label=best_fit_name) # 绘制拟合曲线\n",
    "plt.xlabel('Value')\n",
    "plt.ylabel('Frequency')\n",
    "plt.title('整体遗漏分布'+' ('+best_fit_name+'分布) ')\n",
    "plt.legend()\n",
    "plt.show()"
   ]
  }
 ],
 "metadata": {
  "kernelspec": {
   "display_name": "base",
   "language": "python",
   "name": "python3"
  },
  "language_info": {
   "codemirror_mode": {
    "name": "ipython",
    "version": 3
   },
   "file_extension": ".py",
   "mimetype": "text/x-python",
   "name": "python",
   "nbconvert_exporter": "python",
   "pygments_lexer": "ipython3",
   "version": "3.12.2"
  }
 },
 "nbformat": 4,
 "nbformat_minor": 2
}
