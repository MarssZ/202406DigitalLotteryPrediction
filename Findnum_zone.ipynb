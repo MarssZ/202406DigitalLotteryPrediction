{
 "cells": [
  {
   "cell_type": "code",
   "execution_count": 2,
   "metadata": {},
   "outputs": [
    {
     "name": "stdout",
     "output_type": "stream",
     "text": [
      "读取cvs文件: Data\\福彩3D历史开奖.csv\n",
      "前区数字列表: [0, 1, 2, 3, 10, 11, 12, 13, 20, 21, 22, 23, 30, 31, 32, 33, 100, 101, 102, 103, 110, 111, 112, 113, 120, 121, 122, 123, 130, 131, 132, 133, 200, 201, 202, 203, 210, 211, 212, 213, 220, 221, 222, 223, 230, 231, 232, 233, 300, 301, 302, 303, 310, 311, 312, 313, 320, 321, 322, 323, 330, 331, 332, 333]\n",
      "前区平均中奖次数: 3.828125\n"
     ]
    }
   ],
   "source": [
    "### 数字分区 ###\n",
    "import tools\n",
    "\n",
    "### 单一区数字（前区） ###\n",
    "def find_front_zone_numbers_and_average(end_num):\n",
    "    front_zone_numbers = []  # 存储前区数字的列表\n",
    "    win_count = []  # 存储中奖次数的列表\n",
    "    for num in range(end_num + 1):  # 遍历0至end_num\n",
    "        # 将数字转换为3位数的字符串，并在前面补零（如果需要）\n",
    "        str_num = str(num).zfill(3)\n",
    "        # 检查数字的每一位是否都属于前区（0-3）\n",
    "        if all(int(digit) < 4 for digit in str_num):\n",
    "            front_zone_numbers.append(num)\n",
    "            count = tools.count_occurrences(num)\n",
    "            win_count.append(count)\n",
    "    \n",
    "    if front_zone_numbers:  # 如果有找到前区数字\n",
    "        average_win_count = sum(win_count) / len(win_count)\n",
    "        return front_zone_numbers, average_win_count\n",
    "    else:\n",
    "        return [], 0  # 如果没有找到，返回空列表和0\n",
    "\n",
    "# 使用函数\n",
    "front_zone_numbers, average_win_count = find_front_zone_numbers_and_average(999)\n",
    "print(\"前区数字列表:\", front_zone_numbers)\n",
    "print(\"前区平均中奖次数:\", average_win_count)"
   ]
  },
  {
   "cell_type": "code",
   "execution_count": 3,
   "metadata": {},
   "outputs": [
    {
     "name": "stdout",
     "output_type": "stream",
     "text": [
      "中区数字列表: [444, 445, 446, 454, 455, 456, 464, 465, 466, 544, 545, 546, 554, 555, 556, 564, 565, 566, 644, 645, 646, 654, 655, 656, 664, 665, 666]\n",
      "中区平均中奖次数: 3.5925925925925926\n"
     ]
    }
   ],
   "source": [
    "### 单一区数字（中区） ###\n",
    "def find_middle_zone_numbers_and_average(end_num):\n",
    "    middle_zone_numbers = []  # 存储中区数字的列表\n",
    "    win_count = []  # 存储中奖次数的列表\n",
    "    for num in range(end_num + 1):  # 遍历0至end_num\n",
    "        # 将数字转换为3位数的字符串，并在前面补零（如果需要）\n",
    "        str_num = str(num).zfill(3)\n",
    "        # 检查数字的每一位是否都属于中区（4-6）\n",
    "        if all(3 < int(digit) < 7 for digit in str_num):\n",
    "            middle_zone_numbers.append(num)\n",
    "            count = tools.count_occurrences(num)\n",
    "            win_count.append(count)\n",
    "    \n",
    "    if middle_zone_numbers:  # 如果有找到完全由中区构成的数字\n",
    "        average_win_count = sum(win_count) / len(win_count)\n",
    "        return middle_zone_numbers, average_win_count\n",
    "    else:\n",
    "        return [], 0  # 如果没有找到，返回空列表和0\n",
    "\n",
    "# 使用函数\n",
    "middle_zone_numbers, average_win_count = find_middle_zone_numbers_and_average(999)\n",
    "print(\"中区数字列表:\", middle_zone_numbers)\n",
    "print(\"中区平均中奖次数:\", average_win_count)"
   ]
  },
  {
   "cell_type": "code",
   "execution_count": 4,
   "metadata": {},
   "outputs": [
    {
     "name": "stdout",
     "output_type": "stream",
     "text": [
      "后区数字列表: [777, 778, 779, 787, 788, 789, 797, 798, 799, 877, 878, 879, 887, 888, 889, 897, 898, 899, 977, 978, 979, 987, 988, 989, 997, 998, 999]\n",
      "后区平均中奖次数: 5.0\n"
     ]
    }
   ],
   "source": [
    "### 单一区数字（后区） ###\n",
    "def find_back_zone_numbers_and_average(end_num):\n",
    "    back_zone_numbers = []  # 存储后区数字的列表\n",
    "    win_count = []  # 存储中奖次数的列表\n",
    "    for num in range(end_num + 1):  # 遍历0至end_num\n",
    "        # 将数字转换为3位数的字符串，并在前面补零（如果需要）\n",
    "        str_num = str(num).zfill(3)\n",
    "        # 检查数字的每一位是否都属于后区（7-9）\n",
    "        if all(int(digit) > 6 for digit in str_num):\n",
    "            back_zone_numbers.append(num)\n",
    "            count = tools.count_occurrences(num)\n",
    "            win_count.append(count)\n",
    "    \n",
    "    if back_zone_numbers:  # 如果有找到完全由后区构成的数字\n",
    "        average_win_count = sum(win_count) / len(win_count)\n",
    "        return back_zone_numbers, average_win_count\n",
    "    else:\n",
    "        return [], 0  # 如果没有找到，返回空列表和0\n",
    "\n",
    "# 使用函数\n",
    "back_zone_numbers, average_win_count = find_back_zone_numbers_and_average(999)\n",
    "print(\"后区数字列表:\", back_zone_numbers)\n",
    "print(\"后区平均中奖次数:\", average_win_count)"
   ]
  },
  {
   "cell_type": "code",
   "execution_count": 5,
   "metadata": {},
   "outputs": [
    {
     "name": "stdout",
     "output_type": "stream",
     "text": [
      "数字454是否为单区模式：True\n"
     ]
    }
   ],
   "source": [
    "### 判断一个数字是否由单区构成 ###\n",
    "def is_numbers_single_zone(num):\n",
    "    # 将数字转换为3位数的字符串，并在前面补零（如果需要）\n",
    "    str_num = str(num).zfill(3)\n",
    "    \n",
    "    if all(int(digit) > 6 for digit in str_num): # 检查数字的每一位是否都属于后区（7-9）\n",
    "        return True\n",
    "    elif all(3 < int(digit) < 7 for digit in str_num): # 检查数字的每一位是否都属于中区（4-6）\n",
    "        return True\n",
    "    elif all(int(digit) < 4 for digit in str_num): # 检查数字的每一位是否都属于前区（0-3）\n",
    "        return True\n",
    "    else:\n",
    "        return False\n",
    "\n",
    "test_num = 454\n",
    "print(f\"数字{test_num}是否为单区模式：{is_numbers_single_zone(test_num)}\")\n",
    "        "
   ]
  },
  {
   "cell_type": "code",
   "execution_count": 9,
   "metadata": {},
   "outputs": [
    {
     "name": "stdout",
     "output_type": "stream",
     "text": [
      "win_numbers length: 3930\n",
      "single_zone_numbers length: 477\n",
      "单区模式中奖几率：0.12137404580152672\n",
      "非单区模式中奖几率：0.8786259541984733\n"
     ]
    }
   ],
   "source": [
    "### 判断过往中奖率中有多少几率是单区模式 ###\n",
    "def PatternRate_SingleZone(n=None):\n",
    "    single_zone_numbers = []  \n",
    "    if n is None:\n",
    "        win_numbers = tools.get_lottery_numbers_list()\n",
    "    else:\n",
    "        win_numbers = tools.get_lottery_numbers_list(n)\n",
    "    print(f\"win_numbers length: {len(win_numbers)}\")\n",
    "    \n",
    "    # 当开奖号码符合模式时记录\n",
    "    for num in win_numbers:  \n",
    "        if is_numbers_single_zone(num):   \n",
    "            single_zone_numbers.append(num)\n",
    "\n",
    "    if single_zone_numbers:  \n",
    "        pattern_rate = len(single_zone_numbers) / len(win_numbers)  #返回符合模式的几率\n",
    "        print(f\"single_zone_numbers length: {len(single_zone_numbers) }\")\n",
    "        return pattern_rate\n",
    "    else:\n",
    "        return 0  # 如果没有找到，返回空列表和0\n",
    "    \n",
    "# 测试代码\n",
    "k = PatternRate_SingleZone()\n",
    "print(\"单区模式中奖几率：\"+str(k))\n",
    "print(\"非单区模式中奖几率：\"+str(1-k))"
   ]
  }
 ],
 "metadata": {
  "kernelspec": {
   "display_name": "base",
   "language": "python",
   "name": "python3"
  },
  "language_info": {
   "codemirror_mode": {
    "name": "ipython",
    "version": 3
   },
   "file_extension": ".py",
   "mimetype": "text/x-python",
   "name": "python",
   "nbconvert_exporter": "python",
   "pygments_lexer": "ipython3",
   "version": "3.11.7"
  }
 },
 "nbformat": 4,
 "nbformat_minor": 2
}
